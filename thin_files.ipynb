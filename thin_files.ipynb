{
 "cells": [
  {
   "cell_type": "code",
   "execution_count": 80,
   "metadata": {},
   "outputs": [],
   "source": [
    "import xarray as xr"
   ]
  },
  {
   "cell_type": "code",
   "execution_count": 132,
   "metadata": {},
   "outputs": [],
   "source": [
    "# Thin netCDF\n",
    "# Dataset: NUCAPS\n",
    "# --------------------\n",
    "# Open file, extract all variables\n",
    "indir='input/'\n",
    "odir='output/'\n",
    "\n",
    "fname = \"NUCAPS-EDR_v2r0_j01_s20190425175959_e20190425180557_c20190425180557\"\n",
    "# Note: decoding time set to False to keep prevent xarray from converting to a datetime format\n",
    "nucaps = xr.open_dataset(indir+fname+'.nc', decode_times=False)\n",
    "tmp = list(nucaps.variables)"
   ]
  },
  {
   "cell_type": "code",
   "execution_count": 133,
   "metadata": {},
   "outputs": [],
   "source": [
    "# List vars to leave in file, all others will be removed\n",
    "keeps = ['Temperature', 'Time', 'Latitude', 'Longitude', 'Pressure']"
   ]
  },
  {
   "cell_type": "code",
   "execution_count": 134,
   "metadata": {},
   "outputs": [],
   "source": [
    "# Remove the \"keep\" variables from the full var list\n",
    "encoding_dict = {}\n",
    "for keep in keeps:\n",
    "    tmp.remove(keep)\n",
    "    # This is optional, but I recommend using zlib at least because it increases file compression\n",
    "    dict_entry = { keep : {\"dtype\" : \"float32\", \"zlib\" : True} }\n",
    "    encoding_dict.update(dict_entry)"
   ]
  },
  {
   "cell_type": "code",
   "execution_count": 135,
   "metadata": {},
   "outputs": [],
   "source": [
    "# remove everything else\n",
    "nucaps_thinned = nucaps.drop(tmp)"
   ]
  },
  {
   "cell_type": "code",
   "execution_count": 136,
   "metadata": {},
   "outputs": [],
   "source": [
    "# save file with the same filename, but labelled \"_thinned\"\n",
    "nucaps_thinned.to_netcdf(odir+fname+\"_thinned.nc\", engine=\"netcdf4\", encoding=encoding_dict)"
   ]
  },
  {
   "cell_type": "code",
   "execution_count": 113,
   "metadata": {},
   "outputs": [],
   "source": [
    "nucaps.close()"
   ]
  },
  {
   "cell_type": "code",
   "execution_count": 74,
   "metadata": {},
   "outputs": [],
   "source": [
    "# Thin HDF\n",
    "# Dataset: IMERG\n",
    "# --------------------\n",
    "# Open file, extract all variables\n",
    "fname = '3B-HHR.MS.MRG.3IMERG.20170827-S120000-E122959.0720.V06B'\n",
    "grp_name=\"Grid/\"\n",
    "\n",
    "imerg = xr.open_dataset(indir+fname+\".HDF5\", group = grp_name)\n",
    "tmp = list(imerg.variables)"
   ]
  },
  {
   "cell_type": "code",
   "execution_count": 75,
   "metadata": {},
   "outputs": [],
   "source": [
    "keeps = ['precipitationCal', 'lon', 'lat', 'time', 'precipitationQualityIndex' ]\n",
    "\n",
    "encoding_dict = {}\n",
    "for keep in keeps:\n",
    "    tmp.remove(keep)\n",
    "    dict_entry = { keep : {\"dtype\": \"float32\", \"zlib\": True, '_FillValue': -9999.9} }\n",
    "    encoding_dict.update(dict_entry)"
   ]
  },
  {
   "cell_type": "code",
   "execution_count": 76,
   "metadata": {},
   "outputs": [],
   "source": [
    "imerg_thinned = imerg.drop(tmp)"
   ]
  },
  {
   "cell_type": "code",
   "execution_count": 77,
   "metadata": {},
   "outputs": [],
   "source": [
    "# Option: Keep only data inside a bounding box\n",
    "coverage = [-94.3, 28.9, -88.8, 33.1]\n",
    "imerg_thinned_small = imerg_thinned.where(\n",
    "    (imerg_thinned.lat > 28) & (imerg_thinned.lat < 33) & (imerg_thinned.lon > -94) & (imerg_thinned.lon < -88), drop=True)"
   ]
  },
  {
   "cell_type": "code",
   "execution_count": 78,
   "metadata": {},
   "outputs": [],
   "source": [
    "imerg_thinned_small.to_netcdf(odir+fname+\"_thinned.nc\", engine=\"netcdf4\", encoding=encoding_dict)"
   ]
  },
  {
   "cell_type": "code",
   "execution_count": 79,
   "metadata": {},
   "outputs": [],
   "source": [
    "imerg.close()"
   ]
  }
 ],
 "metadata": {
  "kernelspec": {
   "display_name": "Python 3",
   "language": "python",
   "name": "python3"
  },
  "language_info": {
   "codemirror_mode": {
    "name": "ipython",
    "version": 3
   },
   "file_extension": ".py",
   "mimetype": "text/x-python",
   "name": "python",
   "nbconvert_exporter": "python",
   "pygments_lexer": "ipython3",
   "version": "3.7.9"
  }
 },
 "nbformat": 4,
 "nbformat_minor": 4
}
